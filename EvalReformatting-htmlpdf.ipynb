{
 "cells": [
  {
   "cell_type": "markdown",
   "metadata": {},
   "source": [
    "# Overview\n",
    "\n",
    "You can either run this as a notebook, changing one variable below, or use the command-line `makepdf.py` script.\n",
    "\n",
    "# Requirements\n",
    "\n",
    " * The standard scientific Python stack, which comes with the [Anaconda](https://store.continuum.io/cshop/anaconda/) Python distribution ... that's what you should be using anyway.\n",
    " * [wordcloud](https://github.com/amueller/word_cloud) which can be installed with `pip install git+git://github.com/amueller/word_cloud.git` and requires [PIL](http://effbot.org/imagingbook/pil-index.htm) (PIL comes with the Anaconda Python distribution)\n",
    " * [Weasyprint](http://weasyprint.org/). It has some dependencies. You should be able to `pip install weasyprint`."
   ]
  },
  {
   "cell_type": "markdown",
   "metadata": {},
   "source": [
    "# Strategy\n",
    "\n",
    "In the end, we want a nice looking PDF document. There are quite a few tools for generating PDFs. The most popular is [reportlab](https://pypi.python.org/pypi/reportlab) (people seem to recommend reportlab's [platypus](http://www.reportlab.com/apis/reportlab/2.4/platypus.html) for \"simple\" pdf [generation](https://www.reportlab.com/docs/platypus-example.py)). I wanted something a little easier to control. I thought about using [Markdown](http://daringfireball.net/projects/markdown/syntax) document (see [CommonMark](http://commonmark.org/)) as intermediate format, and using [python-markdown2](https://github.com/trentm/python-markdown2) to generate HTML and [xhtml2pdf](https://github.com/chrisglass/xhtml2pdf) to generate the PDF (similar to what is [done](https://omz-forums.appspot.com/pythonista/post/6427727661891584) [here](https://gist.github.com/SpotlightKid/0efb4d07f28af1c8fc1b)). In the end, it seemed easier to just write out the simple HTML myself. Similarly, I thought about [Sphinx](http://sphinx-doc.org/) with [reStructuredText](http://docutils.sourceforge.net/rst.html), but that needs a working LaTeX environment to produce PDFs.\n",
    "\n",
    "For the actual HTML to PDF conversoin, some options include xhtml2pdf (which wraps reportlab) and [pdfkit](https://pypi.python.org/pypi/pdfkit) which wraps [wkhtmltopdf](http://wkhtmltopdf.org/). I didn't like the looks of their PDFs, so I went with [Weasyprint](http://weasyprint.org/).\n",
    "\n",
    "For the wordcloud, I used the free [Raleway](http://www.fontsquirrel.com/fonts/raleway) font, downloaded via [FontSquirrel](http://www.fontsquirrel.com/fonts/list/popular)."
   ]
  },
  {
   "cell_type": "markdown",
   "metadata": {},
   "source": [
    "# Parsing the Excel\n",
    "\n",
    "There are a few good Excel parsers these days, but [pandas](http://pandas.pydata.org/) is nice and standard. It also understands XLS files in addition to XLSX, which is important since we don't want to make people convert to XLSX by hand in order to use a different parse.\n",
    "\n",
    "In this case, we need to know the structure of the XLS documents. There should be two sheets. The first (called \"RawData\") contains columns like \"Path\" \"CourseCode\" etc. and then \"Question_1\", \"Question_2\" etc. The second (called \"QuestionMapper\") contains \"Question 1\" etc. in column A and the text of the question in column B.\n",
    "\n",
    "The first row is a header in both cases.\n",
    "\n",
    "I have no idea how fragile this structure is, so I'll explicitly refer to the sheets by name. That way, there's a decent chance this script will break if someone changes the underlying format."
   ]
  },
  {
   "cell_type": "markdown",
   "metadata": {},
   "source": [
    "# Running the thing!\n",
    "\n",
    "To run this, all you need to do is change the `xl_filename` in the cell below, then run all of the cells.\n",
    "\n",
    "This will create an HTML file, a wordcloud png, and a PDF all in the same directory as your Excel file."
   ]
  },
  {
   "cell_type": "code",
   "execution_count": 64,
   "metadata": {
    "collapsed": true
   },
   "outputs": [],
   "source": [
    "from __future__ import print_function # make it work with Python 2 and 3"
   ]
  },
  {
   "cell_type": "code",
   "execution_count": 44,
   "metadata": {
    "collapsed": true
   },
   "outputs": [],
   "source": [
    "xl_filename = 'data/Mathematical-Physics-(Spring-2015).xlsx'\n",
    "xl_filename = 'data/484s15.evalsraw.xlsx'"
   ]
  },
  {
   "cell_type": "code",
   "execution_count": 45,
   "metadata": {
    "collapsed": false
   },
   "outputs": [],
   "source": [
    "%matplotlib inline\n",
    "import os\n",
    "from collections import Counter\n",
    "from matplotlib import pyplot as plt\n",
    "from wordcloud import WordCloud, STOPWORDS\n",
    "import pandas as pd, numpy as np\n",
    "from IPython.display import display, HTML \n",
    "from weasyprint import HTML as weasyHTML\n",
    "pdf_filename = os.path.splitext(xl_filename)[0] + '.pdf'\n",
    "html_filename = os.path.splitext(xl_filename)[0] + '.html'\n",
    "wc_filename = os.path.splitext(xl_filename)[0] + '-wordcloud.png'\n",
    "answers = pd.io.excel.read_excel(xl_filename,sheetname='RawData')\n",
    "questionmap = pd.io.excel.read_excel(xl_filename,sheetname='QuestionMapper')"
   ]
  },
  {
   "cell_type": "markdown",
   "metadata": {},
   "source": [
    "We want a per-student list of questions and answers. My first thought is to stick everything into a dictionary. We want to make sure to return the results in the correct order, so we could use an ordered dict. I think it's easier just to keep an ordered list of questions."
   ]
  },
  {
   "cell_type": "code",
   "execution_count": 46,
   "metadata": {
    "collapsed": false
   },
   "outputs": [],
   "source": [
    "questions = questionmap[\"Question\"].values"
   ]
  },
  {
   "cell_type": "code",
   "execution_count": 47,
   "metadata": {
    "collapsed": false
   },
   "outputs": [
    {
     "name": "stdout",
     "output_type": "stream",
     "text": [
      "['What were the most positive features of this course?'\n",
      " 'What is your assessment of the design, materials and assignments in this course?'\n",
      " 'How could this course be improved next time it is offered?'\n",
      " \"How well were\\xa0[InstructorName] 's objectives (stated or implied) fulfilled?\"\n",
      " \"What were [InstructorName]'s strongest contributions to this course?\"\n",
      " \"How could [InstructorName]'s teaching be improved?\"\n",
      " 'What influence did\\xa0[InstructorName] have on your interest in this subject?'\n",
      " 'In the space below, please provide a statement about the quality of your performance in this course.'\n",
      " 'Students are expected to sign these forms (by adding your name), and should know that unsigned forms are unlikely to be taken seriously by evaluating committees.']\n"
     ]
    }
   ],
   "source": [
    "print(questions)"
   ]
  },
  {
   "cell_type": "markdown",
   "metadata": {},
   "source": [
    "About the below code:\n",
    "\n",
    "When we iterate through the rows, `idx` is the number of the row, and `qd` comes to us as the \"question dictionary\" where row 1 is expected to name the columns, and we can then look up entries by name. For example, column A happens to be \"Column\" and column B is \"Question\", so asking for `qd['Question']` gets the thing in column B.\n",
    "\n",
    "`qm` is then my \"question map\": it maps something like \"Question 1\" to \"What were the most positive features of this course\"\n"
   ]
  },
  {
   "cell_type": "code",
   "execution_count": 48,
   "metadata": {
    "collapsed": false
   },
   "outputs": [],
   "source": [
    "#qm will map the column names (Question_1) to question text\n",
    "qm = {}\n",
    "for (idx,qd) in questionmap.iterrows():\n",
    "    qn = qd['Column'].replace(' ','_')\n",
    "    qt = qd['Question']\n",
    "    qm[qn] = qt"
   ]
  },
  {
   "cell_type": "code",
   "execution_count": 49,
   "metadata": {
    "collapsed": false
   },
   "outputs": [
    {
     "name": "stdout",
     "output_type": "stream",
     "text": [
      "{'Question_1': 'What were the most positive features of this course?', 'Question_4': \"How well were\\xa0[InstructorName] 's objectives (stated or implied) fulfilled?\", 'Question_8': 'In the space below, please provide a statement about the quality of your performance in this course.', 'Question_5': \"What were [InstructorName]'s strongest contributions to this course?\", 'Question_9': 'Students are expected to sign these forms (by adding your name), and should know that unsigned forms are unlikely to be taken seriously by evaluating committees.', 'Question_2': 'What is your assessment of the design, materials and assignments in this course?', 'Question_7': 'What influence did\\xa0[InstructorName] have on your interest in this subject?', 'Question_3': 'How could this course be improved next time it is offered?', 'Question_6': \"How could [InstructorName]'s teaching be improved?\"}\n"
     ]
    }
   ],
   "source": [
    "print(qm)"
   ]
  },
  {
   "cell_type": "markdown",
   "metadata": {},
   "source": [
    "Now let's grab the data that should be common to all rows"
   ]
  },
  {
   "cell_type": "code",
   "execution_count": 50,
   "metadata": {
    "collapsed": false
   },
   "outputs": [],
   "source": [
    "path = answers.Path[0]\n",
    "course_code = answers.CourseCode[0]\n",
    "course_title = answers.CourseTitle[0]\n",
    "instructor_name = answers.InstructorName[0]\n",
    "enrollments = answers.Enrollments[0]\n",
    "# We know we're not extracting the following from each row, so keep quiet about it later.\n",
    "knownskips = ['Path','CourseCode','CourseTitle','UniqueID','InstructorName','Enrollments']"
   ]
  },
  {
   "cell_type": "markdown",
   "metadata": {},
   "source": [
    "And now let's slurp up the data per student."
   ]
  },
  {
   "cell_type": "code",
   "execution_count": 51,
   "metadata": {
    "collapsed": false
   },
   "outputs": [],
   "source": [
    "a = {}\n",
    "for (idx,student) in answers.iterrows():\n",
    "    a[idx] = {}\n",
    "    for colname in answers.columns:\n",
    "        col_name = colname.replace(' ','_')\n",
    "        if col_name in qm:\n",
    "            #print \"Looking up\",col_name\n",
    "            a[idx][qm[col_name]] = student[colname]\n",
    "        else:\n",
    "            if colname not in knownskips:\n",
    "                print(\"Could not find\",colname)"
   ]
  },
  {
   "cell_type": "markdown",
   "metadata": {},
   "source": [
    "Now we're ready to stamp out the text, believe it or not. The only cute thing is that `pandas` uses nan (\"not a number\") to represent missing data. We'll use `numpy` (imported above as `np`) to test for nan, and turn it into \"No answer given.\""
   ]
  },
  {
   "cell_type": "code",
   "execution_count": 52,
   "metadata": {
    "collapsed": false
   },
   "outputs": [
    {
     "data": {
      "text/plain": [
       "'We were able to do a lot of creative work.  We came up with ideas for games and did a lot of experimenting and testing out how well the games worked.'"
      ]
     },
     "execution_count": 52,
     "metadata": {},
     "output_type": "execute_result"
    }
   ],
   "source": [
    "a[0][questions[0]]"
   ]
  },
  {
   "cell_type": "code",
   "execution_count": 53,
   "metadata": {
    "collapsed": true
   },
   "outputs": [],
   "source": [
    "def is_nan(x): \n",
    "    try: return np.isnan(x) \n",
    "    except: return False #isnan only eats strings\n"
   ]
  },
  {
   "cell_type": "code",
   "execution_count": 54,
   "metadata": {
    "collapsed": true
   },
   "outputs": [],
   "source": [
    "css = \"\"\"\n",
    "p.large-headline {\n",
    "    font-family: times, Times New Roman, times-roman, georgia, serif;\n",
    "    color: #444;\n",
    "    margin: 0px 0px 100px 0px;\n",
    "    padding: 40px 40px 40px 40px;\n",
    "    font-size: 55px;\n",
    "    line-height: 44px;\n",
    "    letter-spacing: -1px;\n",
    "    font-weight: bold;\n",
    "    text-align: center;\n",
    "    border-radius: 25px;\n",
    "    border: 2px solid #111;\n",
    "    width: 90%;\n",
    "}\n",
    "\n",
    "p.medium-headline {\n",
    "    font-family: times, Times New Roman, times-roman, georgia, serif;\n",
    "    color: #444;\n",
    "    margin: 0px -10px 0px 0px;\n",
    "    padding: 0px 0px 0px 0px;\n",
    "    font-size: 25px;\n",
    "    line-height: 24px;\n",
    "    letter-spacing: -1px;\n",
    "    font-weight: bold;\n",
    "    text-align: left;\n",
    "}\n",
    "\n",
    "p.name {\n",
    "    font-family: times, Times New Roman, times-roman, georgia, serif;\n",
    "    font-weight: bold;\n",
    "    font-size: 20px;\n",
    "    margin-top: 2em;\n",
    "    margin-bottom: 0em;\n",
    "}\n",
    "p.question {\n",
    "    font-family: times, Times New Roman, times-roman, georgia, serif;\n",
    "    font-size: 18px;\n",
    "    color: #111;\n",
    "    font-weight: bold;\n",
    "    margin-top: 0em;\n",
    "    margin-bottom: 0em;\n",
    "    width: 90%;\n",
    "}\n",
    "p.answer {\n",
    "    font-family: times, Times New Roman, times-roman, georgia, serif;\n",
    "    font-size: 18px;\n",
    "    color: #111;\n",
    "    text-align: justify;\n",
    "    margin-top: 0em;\n",
    "    margin-bottom: 0em;\n",
    "    width: 90%;\n",
    "}\n",
    "table\n",
    "{\n",
    "  border-collapse: collapse;\n",
    "}\n",
    "th\n",
    "{\n",
    "  color: #ffffff;\n",
    "  background-color: #000000;\n",
    "}\n",
    "td\n",
    "{\n",
    "  background-color: #cccccc;\n",
    "}\n",
    "table, th, td\n",
    "{\n",
    "  font-family:Arial, Helvetica, sans-serif;\n",
    "  border: 1px solid black;\n",
    "  text-align: right;\n",
    "}\n",
    "\"\"\""
   ]
  },
  {
   "cell_type": "code",
   "execution_count": 55,
   "metadata": {
    "collapsed": false
   },
   "outputs": [],
   "source": [
    "html = '''\n",
    "<html>\n",
    "<head>\n",
    "<style>\n",
    "{css}\n",
    "</style>\n",
    "</head>\n",
    "<body>\n",
    "<div>\n",
    "<p class=\"large-headline\">{title}</p>\n",
    "<p class=\"medium-headline\">{code}<br>{instructor}<br>Answers from {a} of {b} enrolled students</p>\n",
    "<div>'''.format(css=css,\n",
    "    title=course_title,code=course_code,instructor=instructor_name,\n",
    "    a=len(a),b=enrollments\n",
    ")"
   ]
  },
  {
   "cell_type": "code",
   "execution_count": 56,
   "metadata": {
    "collapsed": false
   },
   "outputs": [],
   "source": [
    "answertext = ''\n",
    "for idx in sorted(a):\n",
    "    html += '''<div class=\"response\">\n",
    "    <p class=\"name\">Student {i} ({n})</p>\n",
    "    '''.format(\n",
    "            i=idx+1, n=a[idx][questions[-1]]\n",
    "        )\n",
    "    for question in questions[:-1]:\n",
    "        question_cor_name = question.replace(\"[InstructorName]\", instructor_name)\n",
    "        if u'\\xa0' in question_cor_name: \n",
    "            question_cor_name = question_cor_name.replace(u'\\xa0', u' ') #Corrects for unicode encoding error\n",
    "        answer = a[idx][question]\n",
    "        if is_nan(answer):\n",
    "            answer = 'No answer given.'\n",
    "        else:\n",
    "            answertext = answertext + ' ' + answer\n",
    "        html += '''<p class=\"question\">{q}</p>\n",
    "        <p class=\"answer\">{a}</p>\n",
    "        '''.format(q=question_cor_name,a=answer)\n",
    "    html += '</div>'"
   ]
  },
  {
   "cell_type": "code",
   "execution_count": 57,
   "metadata": {
    "collapsed": false
   },
   "outputs": [
    {
     "data": {
      "image/png": "[encoded data removed]",
      "text/plain": [
       "<matplotlib.figure.Figure at 0x1064b1898>"
      ]
     },
     "metadata": {},
     "output_type": "display_data"
    }
   ],
   "source": [
    "#fig = plt.figure(figsize=(18,14))\n",
    "wordcloud = WordCloud(\n",
    "                      font_path='Fonts/Raleway-Bold.ttf',\n",
    "                      stopwords=STOPWORDS,\n",
    "                      background_color='white',\n",
    "                      width=1800,\n",
    "                      height=1600\n",
    "                     ).generate(answertext)\n",
    "plt.imshow(wordcloud)\n",
    "plt.axis('off')\n",
    "plt.savefig(wc_filename, dpi=300)"
   ]
  },
  {
   "cell_type": "code",
   "execution_count": 58,
   "metadata": {
    "collapsed": true
   },
   "outputs": [],
   "source": [
    "c = Counter([i for i in answertext.lower().split() if i not in STOPWORDS])\n",
    "#for (w,n) in c.most_common(20):\n",
    "#    print \"{w:20s}: {n:4d}\".format(w=w,n=n)"
   ]
  },
  {
   "cell_type": "code",
   "execution_count": 59,
   "metadata": {
    "collapsed": false
   },
   "outputs": [],
   "source": [
    "html += '''<div class=\"content-analysis\">\n",
    "<img src=\"{wc}\" style=\"width:720px;height:560px;\"/>\n",
    "<table>\n",
    "  <caption>Most common words</caption>\n",
    "  <tr><th>Word</th><th>Count</th></tr>\n",
    "'''.format(wc=os.path.split(wc_filename)[-1])\n",
    "for (w,n) in c.most_common(20):\n",
    "    html += '<tr><td>{w}</td><td>{n}</td></tr>\\n'.format(w=w,n=n)\n",
    "html += '''</table>\n",
    "</div>\n",
    "</body>\n",
    "</html>'''"
   ]
  },
  {
   "cell_type": "code",
   "execution_count": 60,
   "metadata": {
    "collapsed": false
   },
   "outputs": [
    {
     "data": {
      "text/plain": [
       "13453"
      ]
     },
     "execution_count": 60,
     "metadata": {},
     "output_type": "execute_result"
    }
   ],
   "source": [
    "open(html_filename,'w').write(html)"
   ]
  },
  {
   "cell_type": "code",
   "execution_count": 61,
   "metadata": {
    "collapsed": false,
    "scrolled": false
   },
   "outputs": [
    {
     "data": {
      "text/html": [
       "\n",
       "<html>\n",
       "<head>\n",
       "<style>\n",
       "\n",
       "p.large-headline {\n",
       "    font-family: times, Times New Roman, times-roman, georgia, serif;\n",
       "    color: #444;\n",
       "    margin: 0px 0px 100px 0px;\n",
       "    padding: 40px 40px 40px 40px;\n",
       "    font-size: 55px;\n",
       "    line-height: 44px;\n",
       "    letter-spacing: -1px;\n",
       "    font-weight: bold;\n",
       "    text-align: center;\n",
       "    border-radius: 25px;\n",
       "    border: 2px solid #111;\n",
       "    width: 90%;\n",
       "}\n",
       "\n",
       "p.medium-headline {\n",
       "    font-family: times, Times New Roman, times-roman, georgia, serif;\n",
       "    color: #444;\n",
       "    margin: 0px -10px 0px 0px;\n",
       "    padding: 0px 0px 0px 0px;\n",
       "    font-size: 25px;\n",
       "    line-height: 24px;\n",
       "    letter-spacing: -1px;\n",
       "    font-weight: bold;\n",
       "    text-align: left;\n",
       "}\n",
       "\n",
       "p.name {\n",
       "    font-family: times, Times New Roman, times-roman, georgia, serif;\n",
       "    font-weight: bold;\n",
       "    font-size: 20px;\n",
       "    margin-top: 2em;\n",
       "    margin-bottom: 0em;\n",
       "}\n",
       "p.question {\n",
       "    font-family: times, Times New Roman, times-roman, georgia, serif;\n",
       "    font-size: 18px;\n",
       "    color: #111;\n",
       "    font-weight: bold;\n",
       "    margin-top: 0em;\n",
       "    margin-bottom: 0em;\n",
       "    width: 90%;\n",
       "}\n",
       "p.answer {\n",
       "    font-family: times, Times New Roman, times-roman, georgia, serif;\n",
       "    font-size: 18px;\n",
       "    color: #111;\n",
       "    text-align: justify;\n",
       "    margin-top: 0em;\n",
       "    margin-bottom: 0em;\n",
       "    width: 90%;\n",
       "}\n",
       "table\n",
       "{\n",
       "  border-collapse: collapse;\n",
       "}\n",
       "th\n",
       "{\n",
       "  color: #ffffff;\n",
       "  background-color: #000000;\n",
       "}\n",
       "td\n",
       "{\n",
       "  background-color: #cccccc;\n",
       "}\n",
       "table, th, td\n",
       "{\n",
       "  font-family:Arial, Helvetica, sans-serif;\n",
       "  border: 1px solid black;\n",
       "  text-align: right;\n",
       "}\n",
       "\n",
       "</style>\n",
       "</head>\n",
       "<body>\n",
       "<div>\n",
       "<p class=\"large-headline\">The Mathematics of Games  (Spring 2015)</p>\n",
       "<p class=\"medium-headline\">MATH484-1:201520(22675)<br>Martha Byrne<br>Answers from 4 of 4 enrolled students</p>\n",
       "<div><div class=\"response\">\n",
       "    <p class=\"name\">Student 1 (Alonzo Genelin)</p>\n",
       "    <p class=\"question\">What were the most positive features of this course?</p>\n",
       "        <p class=\"answer\">We were able to do a lot of creative work.  We came up with ideas for games and did a lot of experimenting and testing out how well the games worked.</p>\n",
       "        <p class=\"question\">What is your assessment of the design, materials and assignments in this course?</p>\n",
       "        <p class=\"answer\">I thought it went well.  We didn't really care for the text book that we used, but it was still helpful</p>\n",
       "        <p class=\"question\">How could this course be improved next time it is offered?</p>\n",
       "        <p class=\"answer\">I think it would be fun to somehow take a further step with it.  Either doing some sort of competition or actually attempting to get our games published.</p>\n",
       "        <p class=\"question\">How well were Martha Byrne 's objectives (stated or implied) fulfilled?</p>\n",
       "        <p class=\"answer\">I think they were fulfilled well.  We weren't able to get into contact with many publishing companies like she had hoped, but that was out of our control.</p>\n",
       "        <p class=\"question\">What were Martha Byrne's strongest contributions to this course?</p>\n",
       "        <p class=\"answer\">She knew a lot about the whole game making process and knew a lot about games in general and was able to help us kind of figure things out</p>\n",
       "        <p class=\"question\">How could Martha Byrne's teaching be improved?</p>\n",
       "        <p class=\"answer\">No answer given.</p>\n",
       "        <p class=\"question\">What influence did Martha Byrne have on your interest in this subject?</p>\n",
       "        <p class=\"answer\">I had a lot of fun and found the course very interesting.</p>\n",
       "        <p class=\"question\">In the space below, please provide a statement about the quality of your performance in this course.</p>\n",
       "        <p class=\"answer\">My performance was okay.  I got sick in the middle of the semester and didn't really do a whole lot during that time and that kind of hurt, but outside of that I think it went alright.</p>\n",
       "        </div><div class=\"response\">\n",
       "    <p class=\"name\">Student 2 (George Crowson)</p>\n",
       "    <p class=\"question\">What were the most positive features of this course?</p>\n",
       "        <p class=\"answer\">This was an exceptional course for me. I enjoyed the free-form nature. Martha conducted an organized, linear class that lead all the way from brainstorming to product. Martha provided fantastic feedback throughout the entire course and I always felt confident with our progress. This might sound like some generic feedback, but I can't emphasize enough how well this class was organized. Without the achievable subgoals and consistent deadlines our final product wouldn't reach nearly the quality that it has.</p>\n",
       "        <p class=\"question\">What is your assessment of the design, materials and assignments in this course?</p>\n",
       "        <p class=\"answer\">Considering how free-form this class was, I'm surprised how well everything worked out. People in the class didn't like the text much, and I understand why -- the authors hate games -- but I rather enjoyed the text. It had a lot of good ideas that I was able to translate into my own understanding. In addition, the text used videogames rather frequently to explain concepts, which bothered others, but which I enjoyed.</p>\n",
       "        <p class=\"question\">How could this course be improved next time it is offered?</p>\n",
       "        <p class=\"answer\">I think this course is highly dependent on people caring about their work. There were only four of us, two teams of two, and it was vital for us all to be genuinely involved. Work had to be done. Creativity had to be explored, expressed, and refined. The only aspect of this course that could be improved is dealing with publishers. Publishers are incredibly difficult, and we weren't able to get an adequate response from any of our 5 selected publishers. I think, perhaps, that we should call the publishers directly and try to get a contact within the company that is willing to actually interact with us. Perhaps having Martha cold-call the companies in an effort to get the phone number / email of an employee is more efficient than our emailing the company directly.</p>\n",
       "        <p class=\"question\">How well were Martha Byrne 's objectives (stated or implied) fulfilled?</p>\n",
       "        <p class=\"answer\">The course went as expected,</p>\n",
       "        <p class=\"question\">What were Martha Byrne's strongest contributions to this course?</p>\n",
       "        <p class=\"answer\">Her personal experience, lively nature, love of games, flexibility, and project management skills. This is a short list without examples -- Martha is the example. Martha is an exceptional professor that I thoroughly enjoyed working with. I was sad to hear that she was leaving, and when her contract was renewed I was ecstatic. She is a wonderful fit for Earlham and deserves to stay here as long as is pertinent.</p>\n",
       "        <p class=\"question\">How could Martha Byrne's teaching be improved?</p>\n",
       "        <p class=\"answer\">When writing the script for our presentation, I didn't appreciate your live feedback. I felt like you were writing the script for me. I heavily preferred getting your feedback on what had already been written.</p>\n",
       "        <p class=\"question\">What influence did Martha Byrne have on your interest in this subject?</p>\n",
       "        <p class=\"answer\">Fantastic. I enjoyed developing games before this class, but now I love it. I want to create more board/card games in the future. In addition I will take the ideas I learned in this class and translate them to the videogames I develop in the future.</p>\n",
       "        <p class=\"question\">In the space below, please provide a statement about the quality of your performance in this course.</p>\n",
       "        <p class=\"answer\">I believe I did very well. I worked hard, had good ideas, met almost all deadlines, and was able to explore subjects of my interest.</p>\n",
       "        </div><div class=\"response\">\n",
       "    <p class=\"name\">Student 3 (Kristin Muterspaw)</p>\n",
       "    <p class=\"question\">What were the most positive features of this course?</p>\n",
       "        <p class=\"answer\">Getting to be in a small Ford/Knight with an amazing Professor and group of students and all learning about something together, I had never even thought I'd be interested in. But turns out, I am super interested in it, and am considering doing more research in the area. I CREATED A BOARD GAME. How cool is that?</p>\n",
       "        <p class=\"question\">What is your assessment of the design, materials and assignments in this course?</p>\n",
       "        <p class=\"answer\">The textbook we used was really interesting, but it was long, and the authors didn't really seem to like any kind of board games, which was weird haha.</p>\n",
       "        <p class=\"question\">How could this course be improved next time it is offered?</p>\n",
       "        <p class=\"answer\">No answer given.</p>\n",
       "        <p class=\"question\">How well were Martha Byrne 's objectives (stated or implied) fulfilled?</p>\n",
       "        <p class=\"answer\">Completely stated and fulfilled. We embarked on a journey together as a group and learned a lot about the designing of games, and how games have a lot of math in them, but can be disguised really easily.</p>\n",
       "        <p class=\"question\">What were Martha Byrne's strongest contributions to this course?</p>\n",
       "        <p class=\"answer\">She's a board game enthusiast and has played so many board games, so she knows about making good ones and bad ones. Her excitement and encouragement and happiness is incredible. She also knows math really well, so she was able to help guide us through the process of thinking of math and making a game out of it.</p>\n",
       "        <p class=\"question\">How could Martha Byrne's teaching be improved?</p>\n",
       "        <p class=\"answer\">it can't. she's amazing. and i think that if there is an opening for a tenure-track position in the Math department at any time before she leaves, she deserves that spot. She's an amazing teacher, and she belongs at Earlham. To see her leave, would be heart-breaking.</p>\n",
       "        <p class=\"question\">What influence did Martha Byrne have on your interest in this subject?</p>\n",
       "        <p class=\"answer\">SO MUCH INTEREST.</p>\n",
       "        <p class=\"question\">In the space below, please provide a statement about the quality of your performance in this course.</p>\n",
       "        <p class=\"answer\">Since it's my last semester of college, I was thinking I would take this semester easy. But I decided to take this ford knight instead and I'm glad I did. I worked so hard on this project, and I think it can be seen in my final design. I wanted to make something I'm proud of and Martha is proud of and I think I did that.</p>\n",
       "        </div><div class=\"response\">\n",
       "    <p class=\"name\">Student 4 (Anmol.)</p>\n",
       "    <p class=\"question\">What were the most positive features of this course?</p>\n",
       "        <p class=\"answer\">I really how our instructor let us get familiar with the game design process and the \"technical\" aspects necessary in game design. Working in pairs allowed us to bounce off different ideas.</p>\n",
       "        <p class=\"question\">What is your assessment of the design, materials and assignments in this course?</p>\n",
       "        <p class=\"answer\">The course was designed very well. Some parts we added along the way and basically finished everything as planned (except from the rescheduling of the final presentation which was caused as a result of an inevitable problem)</p>\n",
       "        <p class=\"question\">How could this course be improved next time it is offered?</p>\n",
       "        <p class=\"answer\">I don't know how good it would work, but, rather than having both CS folks in one team and maths folks in the other, if both pairs had each of each major student, then there might have been variation in thoughts??</p>\n",
       "        <p class=\"question\">How well were Martha Byrne 's objectives (stated or implied) fulfilled?</p>\n",
       "        <p class=\"answer\">Very well.</p>\n",
       "        <p class=\"question\">What were Martha Byrne's strongest contributions to this course?</p>\n",
       "        <p class=\"answer\">She was very supportive and helped to figure out the solutions when we were stuck in problems.</p>\n",
       "        <p class=\"question\">How could Martha Byrne's teaching be improved?</p>\n",
       "        <p class=\"answer\">As this was a research course, there was not much teaching but more instruction/suggestions.</p>\n",
       "        <p class=\"question\">What influence did Martha Byrne have on your interest in this subject?</p>\n",
       "        <p class=\"answer\">Martha is very enthusiastic about what she teaches. She encouraged me that I could do great all the time. I am always inspired by her enthusiasm.</p>\n",
       "        <p class=\"question\">In the space below, please provide a statement about the quality of your performance in this course.</p>\n",
       "        <p class=\"answer\">I learnt a lot. Got a great research experience.</p>\n",
       "        </div><div class=\"content-analysis\">\n",
       "<img src=\"data/484s15.evalsraw-wordcloud.png\" style=\"width:720px;height:560px;\"/>\n",
       "<table>\n",
       "  <caption>Most common words</caption>\n",
       "  <tr><th>Word</th><th>Count</th></tr>\n",
       "<tr><td>lot</td><td>9</td></tr>\n",
       "<tr><td>games</td><td>8</td></tr>\n",
       "<tr><td>martha</td><td>7</td></tr>\n",
       "<tr><td>think</td><td>7</td></tr>\n",
       "<tr><td>really</td><td>7</td></tr>\n",
       "<tr><td>able</td><td>7</td></tr>\n",
       "<tr><td>course</td><td>7</td></tr>\n",
       "<tr><td>game</td><td>5</td></tr>\n",
       "<tr><td>us</td><td>5</td></tr>\n",
       "<tr><td>well.</td><td>5</td></tr>\n",
       "<tr><td>class</td><td>5</td></tr>\n",
       "<tr><td>enjoyed</td><td>4</td></tr>\n",
       "<tr><td>good</td><td>4</td></tr>\n",
       "<tr><td>games,</td><td>4</td></tr>\n",
       "<tr><td>take</td><td>4</td></tr>\n",
       "<tr><td>math</td><td>4</td></tr>\n",
       "<tr><td>board</td><td>4</td></tr>\n",
       "<tr><td>ideas</td><td>3</td></tr>\n",
       "<tr><td>well</td><td>3</td></tr>\n",
       "<tr><td>went</td><td>3</td></tr>\n",
       "</table>\n",
       "</div>\n",
       "</body>\n",
       "</html>"
      ],
      "text/plain": [
       "<IPython.core.display.HTML object>"
      ]
     },
     "metadata": {},
     "output_type": "display_data"
    }
   ],
   "source": [
    "display(HTML(html.replace(os.path.split(wc_filename)[-1],wc_filename))) "
   ]
  },
  {
   "cell_type": "code",
   "execution_count": 62,
   "metadata": {
    "collapsed": false
   },
   "outputs": [],
   "source": [
    "#!weasyprint \"{html_filename}\" \"{pdf_filename}\""
   ]
  },
  {
   "cell_type": "code",
   "execution_count": 63,
   "metadata": {
    "collapsed": false
   },
   "outputs": [],
   "source": [
    "weasyHTML(html_filename).write_pdf(pdf_filename)"
   ]
  },
  {
   "cell_type": "code",
   "execution_count": null,
   "metadata": {
    "collapsed": true
   },
   "outputs": [],
   "source": []
  }
 ],
 "metadata": {
  "kernelspec": {
   "display_name": "Python 3",
   "language": "python",
   "name": "python3"
  },
  "language_info": {
   "codemirror_mode": {
    "name": "ipython",
    "version": 3
   },
   "file_extension": ".py",
   "mimetype": "text/x-python",
   "name": "python",
   "nbconvert_exporter": "python",
   "pygments_lexer": "ipython3",
   "version": "3.4.3"
  }
 },
 "nbformat": 4,
 "nbformat_minor": 0
}
